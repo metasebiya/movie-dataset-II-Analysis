{
  "nbformat": 4,
  "nbformat_minor": 0,
  "metadata": {
    "colab": {
      "provenance": [],
      "include_colab_link": true
    },
    "kernelspec": {
      "name": "python3",
      "display_name": "Python 3"
    },
    "language_info": {
      "name": "python"
    }
  },
  "cells": [
    {
      "cell_type": "markdown",
      "metadata": {
        "id": "view-in-github",
        "colab_type": "text"
      },
      "source": [
        "<a href=\"https://colab.research.google.com/github/metasebiya/movie-dataset-II-Analysis/blob/main/movie_dataset.ipynb\" target=\"_parent\"><img src=\"https://colab.research.google.com/assets/colab-badge.svg\" alt=\"Open In Colab\"/></a>"
      ]
    },
    {
      "cell_type": "markdown",
      "source": [
        "# **Importing all the necessary libraries**"
      ],
      "metadata": {
        "id": "eYA-G6w20rEE"
      }
    },
    {
      "cell_type": "code",
      "execution_count": null,
      "metadata": {
        "id": "WCkMoKyIllUg"
      },
      "outputs": [],
      "source": [
        "import pandas as pd\n",
        "import numpy as np\n",
        "import seaborn as sns\n",
        "import matplotlib.pyplot as plt\n",
        "import random"
      ]
    },
    {
      "cell_type": "markdown",
      "source": [
        "# **Data Cleaning**"
      ],
      "metadata": {
        "id": "u8Ik1qYk0i8r"
      }
    },
    {
      "cell_type": "code",
      "source": [
        "df = pd.read_csv(\"sample_data/capstone.csv\")"
      ],
      "metadata": {
        "id": "k7Rgy0ormMNH"
      },
      "execution_count": null,
      "outputs": []
    },
    {
      "cell_type": "code",
      "source": [
        "df.head()"
      ],
      "metadata": {
        "id": "CEOWfaKMmvrk",
        "colab": {
          "base_uri": "https://localhost:8080/",
          "height": 206
        },
        "outputId": "999f7d0e-f798-406e-bb12-480005d19758"
      },
      "execution_count": null,
      "outputs": [
        {
          "output_type": "execute_result",
          "data": {
            "text/plain": [
              "  show_id     Type                             title         director  \\\n",
              "0      s1    Movie              DICK jOHNSON IS deAD  Kirsten Johnson   \n",
              "1      s3  TV Show                         GANGLANdS  Julien Leclercq   \n",
              "2      s6  TV Show                     MIDNIgHT MASS    Mike Flanagan   \n",
              "3     s14    Movie  COnfESsIoNs OF AN INVISIBLE GIRL    Bruno Garotti   \n",
              "4      s8    Movie                           sANKOFa     Haile Gerima   \n",
              "\n",
              "         Country   date added rating  duration  \\\n",
              "0  United States    9/25/2021  PG-13    90 min   \n",
              "1         France  (9/24/2021)  TV-MA  1 Season   \n",
              "2  United States  (9/24/2021)  TV-MA  1 Season   \n",
              "3         Brazil    9/22/2021  TV-PG    91 min   \n",
              "4             Us    9/24/2021  TV-MA   125 min   \n",
              "\n",
              "                                           listed_in  \n",
              "0                                      Documentaries  \n",
              "1  Crime TV Shows, International TV Shows, TV Act...  \n",
              "2                 TV Dramas, TV Horror, TV Mysteries  \n",
              "3                 Children & Family Movies, Comedies  \n",
              "4   Dramas, Independent Movies, International Movies  "
            ],
            "text/html": [
              "\n",
              "  <div id=\"df-4c250058-019b-47df-9ffe-13acb580d906\" class=\"colab-df-container\">\n",
              "    <div>\n",
              "<style scoped>\n",
              "    .dataframe tbody tr th:only-of-type {\n",
              "        vertical-align: middle;\n",
              "    }\n",
              "\n",
              "    .dataframe tbody tr th {\n",
              "        vertical-align: top;\n",
              "    }\n",
              "\n",
              "    .dataframe thead th {\n",
              "        text-align: right;\n",
              "    }\n",
              "</style>\n",
              "<table border=\"1\" class=\"dataframe\">\n",
              "  <thead>\n",
              "    <tr style=\"text-align: right;\">\n",
              "      <th></th>\n",
              "      <th>show_id</th>\n",
              "      <th>Type</th>\n",
              "      <th>title</th>\n",
              "      <th>director</th>\n",
              "      <th>Country</th>\n",
              "      <th>date added</th>\n",
              "      <th>rating</th>\n",
              "      <th>duration</th>\n",
              "      <th>listed_in</th>\n",
              "    </tr>\n",
              "  </thead>\n",
              "  <tbody>\n",
              "    <tr>\n",
              "      <th>0</th>\n",
              "      <td>s1</td>\n",
              "      <td>Movie</td>\n",
              "      <td>DICK jOHNSON IS deAD</td>\n",
              "      <td>Kirsten Johnson</td>\n",
              "      <td>United States</td>\n",
              "      <td>9/25/2021</td>\n",
              "      <td>PG-13</td>\n",
              "      <td>90 min</td>\n",
              "      <td>Documentaries</td>\n",
              "    </tr>\n",
              "    <tr>\n",
              "      <th>1</th>\n",
              "      <td>s3</td>\n",
              "      <td>TV Show</td>\n",
              "      <td>GANGLANdS</td>\n",
              "      <td>Julien Leclercq</td>\n",
              "      <td>France</td>\n",
              "      <td>(9/24/2021)</td>\n",
              "      <td>TV-MA</td>\n",
              "      <td>1 Season</td>\n",
              "      <td>Crime TV Shows, International TV Shows, TV Act...</td>\n",
              "    </tr>\n",
              "    <tr>\n",
              "      <th>2</th>\n",
              "      <td>s6</td>\n",
              "      <td>TV Show</td>\n",
              "      <td>MIDNIgHT MASS</td>\n",
              "      <td>Mike Flanagan</td>\n",
              "      <td>United States</td>\n",
              "      <td>(9/24/2021)</td>\n",
              "      <td>TV-MA</td>\n",
              "      <td>1 Season</td>\n",
              "      <td>TV Dramas, TV Horror, TV Mysteries</td>\n",
              "    </tr>\n",
              "    <tr>\n",
              "      <th>3</th>\n",
              "      <td>s14</td>\n",
              "      <td>Movie</td>\n",
              "      <td>COnfESsIoNs OF AN INVISIBLE GIRL</td>\n",
              "      <td>Bruno Garotti</td>\n",
              "      <td>Brazil</td>\n",
              "      <td>9/22/2021</td>\n",
              "      <td>TV-PG</td>\n",
              "      <td>91 min</td>\n",
              "      <td>Children &amp; Family Movies, Comedies</td>\n",
              "    </tr>\n",
              "    <tr>\n",
              "      <th>4</th>\n",
              "      <td>s8</td>\n",
              "      <td>Movie</td>\n",
              "      <td>sANKOFa</td>\n",
              "      <td>Haile Gerima</td>\n",
              "      <td>Us</td>\n",
              "      <td>9/24/2021</td>\n",
              "      <td>TV-MA</td>\n",
              "      <td>125 min</td>\n",
              "      <td>Dramas, Independent Movies, International Movies</td>\n",
              "    </tr>\n",
              "  </tbody>\n",
              "</table>\n",
              "</div>\n",
              "    <div class=\"colab-df-buttons\">\n",
              "\n",
              "  <div class=\"colab-df-container\">\n",
              "    <button class=\"colab-df-convert\" onclick=\"convertToInteractive('df-4c250058-019b-47df-9ffe-13acb580d906')\"\n",
              "            title=\"Convert this dataframe to an interactive table.\"\n",
              "            style=\"display:none;\">\n",
              "\n",
              "  <svg xmlns=\"http://www.w3.org/2000/svg\" height=\"24px\" viewBox=\"0 -960 960 960\">\n",
              "    <path d=\"M120-120v-720h720v720H120Zm60-500h600v-160H180v160Zm220 220h160v-160H400v160Zm0 220h160v-160H400v160ZM180-400h160v-160H180v160Zm440 0h160v-160H620v160ZM180-180h160v-160H180v160Zm440 0h160v-160H620v160Z\"/>\n",
              "  </svg>\n",
              "    </button>\n",
              "\n",
              "  <style>\n",
              "    .colab-df-container {\n",
              "      display:flex;\n",
              "      gap: 12px;\n",
              "    }\n",
              "\n",
              "    .colab-df-convert {\n",
              "      background-color: #E8F0FE;\n",
              "      border: none;\n",
              "      border-radius: 50%;\n",
              "      cursor: pointer;\n",
              "      display: none;\n",
              "      fill: #1967D2;\n",
              "      height: 32px;\n",
              "      padding: 0 0 0 0;\n",
              "      width: 32px;\n",
              "    }\n",
              "\n",
              "    .colab-df-convert:hover {\n",
              "      background-color: #E2EBFA;\n",
              "      box-shadow: 0px 1px 2px rgba(60, 64, 67, 0.3), 0px 1px 3px 1px rgba(60, 64, 67, 0.15);\n",
              "      fill: #174EA6;\n",
              "    }\n",
              "\n",
              "    .colab-df-buttons div {\n",
              "      margin-bottom: 4px;\n",
              "    }\n",
              "\n",
              "    [theme=dark] .colab-df-convert {\n",
              "      background-color: #3B4455;\n",
              "      fill: #D2E3FC;\n",
              "    }\n",
              "\n",
              "    [theme=dark] .colab-df-convert:hover {\n",
              "      background-color: #434B5C;\n",
              "      box-shadow: 0px 1px 3px 1px rgba(0, 0, 0, 0.15);\n",
              "      filter: drop-shadow(0px 1px 2px rgba(0, 0, 0, 0.3));\n",
              "      fill: #FFFFFF;\n",
              "    }\n",
              "  </style>\n",
              "\n",
              "    <script>\n",
              "      const buttonEl =\n",
              "        document.querySelector('#df-4c250058-019b-47df-9ffe-13acb580d906 button.colab-df-convert');\n",
              "      buttonEl.style.display =\n",
              "        google.colab.kernel.accessAllowed ? 'block' : 'none';\n",
              "\n",
              "      async function convertToInteractive(key) {\n",
              "        const element = document.querySelector('#df-4c250058-019b-47df-9ffe-13acb580d906');\n",
              "        const dataTable =\n",
              "          await google.colab.kernel.invokeFunction('convertToInteractive',\n",
              "                                                    [key], {});\n",
              "        if (!dataTable) return;\n",
              "\n",
              "        const docLinkHtml = 'Like what you see? Visit the ' +\n",
              "          '<a target=\"_blank\" href=https://colab.research.google.com/notebooks/data_table.ipynb>data table notebook</a>'\n",
              "          + ' to learn more about interactive tables.';\n",
              "        element.innerHTML = '';\n",
              "        dataTable['output_type'] = 'display_data';\n",
              "        await google.colab.output.renderOutput(dataTable, element);\n",
              "        const docLink = document.createElement('div');\n",
              "        docLink.innerHTML = docLinkHtml;\n",
              "        element.appendChild(docLink);\n",
              "      }\n",
              "    </script>\n",
              "  </div>\n",
              "\n",
              "\n",
              "<div id=\"df-353b59e8-2470-459e-b707-faaf74ca0ec1\">\n",
              "  <button class=\"colab-df-quickchart\" onclick=\"quickchart('df-353b59e8-2470-459e-b707-faaf74ca0ec1')\"\n",
              "            title=\"Suggest charts\"\n",
              "            style=\"display:none;\">\n",
              "\n",
              "<svg xmlns=\"http://www.w3.org/2000/svg\" height=\"24px\"viewBox=\"0 0 24 24\"\n",
              "     width=\"24px\">\n",
              "    <g>\n",
              "        <path d=\"M19 3H5c-1.1 0-2 .9-2 2v14c0 1.1.9 2 2 2h14c1.1 0 2-.9 2-2V5c0-1.1-.9-2-2-2zM9 17H7v-7h2v7zm4 0h-2V7h2v10zm4 0h-2v-4h2v4z\"/>\n",
              "    </g>\n",
              "</svg>\n",
              "  </button>\n",
              "\n",
              "<style>\n",
              "  .colab-df-quickchart {\n",
              "      --bg-color: #E8F0FE;\n",
              "      --fill-color: #1967D2;\n",
              "      --hover-bg-color: #E2EBFA;\n",
              "      --hover-fill-color: #174EA6;\n",
              "      --disabled-fill-color: #AAA;\n",
              "      --disabled-bg-color: #DDD;\n",
              "  }\n",
              "\n",
              "  [theme=dark] .colab-df-quickchart {\n",
              "      --bg-color: #3B4455;\n",
              "      --fill-color: #D2E3FC;\n",
              "      --hover-bg-color: #434B5C;\n",
              "      --hover-fill-color: #FFFFFF;\n",
              "      --disabled-bg-color: #3B4455;\n",
              "      --disabled-fill-color: #666;\n",
              "  }\n",
              "\n",
              "  .colab-df-quickchart {\n",
              "    background-color: var(--bg-color);\n",
              "    border: none;\n",
              "    border-radius: 50%;\n",
              "    cursor: pointer;\n",
              "    display: none;\n",
              "    fill: var(--fill-color);\n",
              "    height: 32px;\n",
              "    padding: 0;\n",
              "    width: 32px;\n",
              "  }\n",
              "\n",
              "  .colab-df-quickchart:hover {\n",
              "    background-color: var(--hover-bg-color);\n",
              "    box-shadow: 0 1px 2px rgba(60, 64, 67, 0.3), 0 1px 3px 1px rgba(60, 64, 67, 0.15);\n",
              "    fill: var(--button-hover-fill-color);\n",
              "  }\n",
              "\n",
              "  .colab-df-quickchart-complete:disabled,\n",
              "  .colab-df-quickchart-complete:disabled:hover {\n",
              "    background-color: var(--disabled-bg-color);\n",
              "    fill: var(--disabled-fill-color);\n",
              "    box-shadow: none;\n",
              "  }\n",
              "\n",
              "  .colab-df-spinner {\n",
              "    border: 2px solid var(--fill-color);\n",
              "    border-color: transparent;\n",
              "    border-bottom-color: var(--fill-color);\n",
              "    animation:\n",
              "      spin 1s steps(1) infinite;\n",
              "  }\n",
              "\n",
              "  @keyframes spin {\n",
              "    0% {\n",
              "      border-color: transparent;\n",
              "      border-bottom-color: var(--fill-color);\n",
              "      border-left-color: var(--fill-color);\n",
              "    }\n",
              "    20% {\n",
              "      border-color: transparent;\n",
              "      border-left-color: var(--fill-color);\n",
              "      border-top-color: var(--fill-color);\n",
              "    }\n",
              "    30% {\n",
              "      border-color: transparent;\n",
              "      border-left-color: var(--fill-color);\n",
              "      border-top-color: var(--fill-color);\n",
              "      border-right-color: var(--fill-color);\n",
              "    }\n",
              "    40% {\n",
              "      border-color: transparent;\n",
              "      border-right-color: var(--fill-color);\n",
              "      border-top-color: var(--fill-color);\n",
              "    }\n",
              "    60% {\n",
              "      border-color: transparent;\n",
              "      border-right-color: var(--fill-color);\n",
              "    }\n",
              "    80% {\n",
              "      border-color: transparent;\n",
              "      border-right-color: var(--fill-color);\n",
              "      border-bottom-color: var(--fill-color);\n",
              "    }\n",
              "    90% {\n",
              "      border-color: transparent;\n",
              "      border-bottom-color: var(--fill-color);\n",
              "    }\n",
              "  }\n",
              "</style>\n",
              "\n",
              "  <script>\n",
              "    async function quickchart(key) {\n",
              "      const quickchartButtonEl =\n",
              "        document.querySelector('#' + key + ' button');\n",
              "      quickchartButtonEl.disabled = true;  // To prevent multiple clicks.\n",
              "      quickchartButtonEl.classList.add('colab-df-spinner');\n",
              "      try {\n",
              "        const charts = await google.colab.kernel.invokeFunction(\n",
              "            'suggestCharts', [key], {});\n",
              "      } catch (error) {\n",
              "        console.error('Error during call to suggestCharts:', error);\n",
              "      }\n",
              "      quickchartButtonEl.classList.remove('colab-df-spinner');\n",
              "      quickchartButtonEl.classList.add('colab-df-quickchart-complete');\n",
              "    }\n",
              "    (() => {\n",
              "      let quickchartButtonEl =\n",
              "        document.querySelector('#df-353b59e8-2470-459e-b707-faaf74ca0ec1 button');\n",
              "      quickchartButtonEl.style.display =\n",
              "        google.colab.kernel.accessAllowed ? 'block' : 'none';\n",
              "    })();\n",
              "  </script>\n",
              "</div>\n",
              "\n",
              "    </div>\n",
              "  </div>\n"
            ],
            "application/vnd.google.colaboratory.intrinsic+json": {
              "type": "dataframe",
              "variable_name": "df",
              "summary": "{\n  \"name\": \"df\",\n  \"rows\": 8790,\n  \"fields\": [\n    {\n      \"column\": \"show_id\",\n      \"properties\": {\n        \"dtype\": \"string\",\n        \"num_unique_values\": 8790,\n        \"samples\": [\n          \"s5505\",\n          \"s6264\",\n          \"s1463\"\n        ],\n        \"semantic_type\": \"\",\n        \"description\": \"\"\n      }\n    },\n    {\n      \"column\": \"Type\",\n      \"properties\": {\n        \"dtype\": \"category\",\n        \"num_unique_values\": 12,\n        \"samples\": [\n          \"m\",\n          \"tv\",\n          \"Movie\"\n        ],\n        \"semantic_type\": \"\",\n        \"description\": \"\"\n      }\n    },\n    {\n      \"column\": \"title\",\n      \"properties\": {\n        \"dtype\": \"string\",\n        \"num_unique_values\": 8787,\n        \"samples\": [\n          \"YoUR eXCELlENCY\",\n          \"PARAdISe LoSt\",\n          \"HoP\"\n        ],\n        \"semantic_type\": \"\",\n        \"description\": \"\"\n      }\n    },\n    {\n      \"column\": \"director\",\n      \"properties\": {\n        \"dtype\": \"string\",\n        \"num_unique_values\": 4528,\n        \"samples\": [\n          \"Ian Samuels\",\n          \"R\\u00e9my Four, Julien War\",\n          \"V Vignarajan\"\n        ],\n        \"semantic_type\": \"\",\n        \"description\": \"\"\n      }\n    },\n    {\n      \"column\": \"Country\",\n      \"properties\": {\n        \"dtype\": \"category\",\n        \"num_unique_values\": 114,\n        \"samples\": [\n          \"Finland\",\n          \"UK\",\n          \"australia\"\n        ],\n        \"semantic_type\": \"\",\n        \"description\": \"\"\n      }\n    },\n    {\n      \"column\": \"date added\",\n      \"properties\": {\n        \"dtype\": \"category\",\n        \"num_unique_values\": 1714,\n        \"samples\": [\n          \"7/19/2020\",\n          \"10/01/2011\",\n          \"08/06/2020\"\n        ],\n        \"semantic_type\": \"\",\n        \"description\": \"\"\n      }\n    },\n    {\n      \"column\": \"rating\",\n      \"properties\": {\n        \"dtype\": \"category\",\n        \"num_unique_values\": 23,\n        \"samples\": [\n          \"pg\",\n          \"G\",\n          \"PG-13\"\n        ],\n        \"semantic_type\": \"\",\n        \"description\": \"\"\n      }\n    },\n    {\n      \"column\": \"duration\",\n      \"properties\": {\n        \"dtype\": \"category\",\n        \"num_unique_values\": 250,\n        \"samples\": [\n          \"185 min\",\n          \"87 min\",\n          \"59 min\"\n        ],\n        \"semantic_type\": \"\",\n        \"description\": \"\"\n      }\n    },\n    {\n      \"column\": \"listed_in\",\n      \"properties\": {\n        \"dtype\": \"category\",\n        \"num_unique_values\": 515,\n        \"samples\": [\n          \"Romantic TV Shows, TV Comedies\",\n          \"Stand-Up Comedy & Talk Shows, TV Mysteries, TV Sci-Fi & Fantasy\",\n          \"British TV Shows, Kids' TV, TV Comedies\"\n        ],\n        \"semantic_type\": \"\",\n        \"description\": \"\"\n      }\n    }\n  ]\n}"
            }
          },
          "metadata": {},
          "execution_count": 45
        }
      ]
    },
    {
      "cell_type": "code",
      "source": [
        "df.info()"
      ],
      "metadata": {
        "id": "_rhUC2ESm4nH",
        "colab": {
          "base_uri": "https://localhost:8080/"
        },
        "outputId": "143cfc45-ad7e-4028-8f32-125f31316466"
      },
      "execution_count": null,
      "outputs": [
        {
          "output_type": "stream",
          "name": "stdout",
          "text": [
            "<class 'pandas.core.frame.DataFrame'>\n",
            "RangeIndex: 8790 entries, 0 to 8789\n",
            "Data columns (total 9 columns):\n",
            " #   Column      Non-Null Count  Dtype \n",
            "---  ------      --------------  ----- \n",
            " 0   show_id     8790 non-null   object\n",
            " 1   Type        8790 non-null   object\n",
            " 2   title       8790 non-null   object\n",
            " 3   director    8790 non-null   object\n",
            " 4   Country     8790 non-null   object\n",
            " 5   date added  8790 non-null   object\n",
            " 6   rating      8790 non-null   object\n",
            " 7   duration    8790 non-null   object\n",
            " 8   listed_in   8790 non-null   object\n",
            "dtypes: object(9)\n",
            "memory usage: 618.2+ KB\n"
          ]
        }
      ]
    },
    {
      "cell_type": "code",
      "source": [
        "df.shape"
      ],
      "metadata": {
        "id": "YhfEhO0Wmz6B",
        "colab": {
          "base_uri": "https://localhost:8080/"
        },
        "outputId": "0e5b1fae-fc1c-41da-86c9-3caf159df7e0"
      },
      "execution_count": null,
      "outputs": [
        {
          "output_type": "execute_result",
          "data": {
            "text/plain": [
              "(8790, 9)"
            ]
          },
          "metadata": {},
          "execution_count": 47
        }
      ]
    },
    {
      "cell_type": "code",
      "source": [
        "df.columns = df.columns.str.lower().str.replace(' ', \"_\")"
      ],
      "metadata": {
        "id": "Fkuch1bKnJtM"
      },
      "execution_count": null,
      "outputs": []
    },
    {
      "cell_type": "code",
      "source": [
        "df"
      ],
      "metadata": {
        "colab": {
          "base_uri": "https://localhost:8080/",
          "height": 423
        },
        "id": "8yUDJUlSiyrn",
        "outputId": "b23848b5-ab20-415e-f570-fe5e5766b7f1"
      },
      "execution_count": null,
      "outputs": [
        {
          "output_type": "execute_result",
          "data": {
            "text/plain": [
              "     show_id     type                             title         director  \\\n",
              "0         s1    Movie              DICK jOHNSON IS deAD  Kirsten Johnson   \n",
              "1         s3  TV Show                         GANGLANdS  Julien Leclercq   \n",
              "2         s6  TV Show                     MIDNIgHT MASS    Mike Flanagan   \n",
              "3        s14    Movie  COnfESsIoNs OF AN INVISIBLE GIRL    Bruno Garotti   \n",
              "4         s8    Movie                           sANKOFa     Haile Gerima   \n",
              "...      ...      ...                               ...              ...   \n",
              "8785   s8797  TV Show                        YuNUs eMRE        Not Given   \n",
              "8786   s8798  TV Show                         zAK sTorm        Not Given   \n",
              "8787   s8801  TV Show                ziNdAGi gULZAR haI        Not Given   \n",
              "8788   s8784  TV Show                              yOKO        Not Given   \n",
              "8789   s8786  TV Show                               YoM        Not Given   \n",
              "\n",
              "            country   date_added rating   duration  \\\n",
              "0     United States    9/25/2021  PG-13     90 min   \n",
              "1            France  (9/24/2021)  TV-MA   1 Season   \n",
              "2     United States  (9/24/2021)  TV-MA   1 Season   \n",
              "3            Brazil    9/22/2021  TV-PG     91 min   \n",
              "4                Us    9/24/2021  TV-MA    125 min   \n",
              "...             ...          ...    ...        ...   \n",
              "8785         Turkey    1/17/2017  TV-PG  2 Seasons   \n",
              "8786  United States    9/13/2018  TV-Y7  3 Seasons   \n",
              "8787       Pakistan   12/15/2016  TV-PG   1 Season   \n",
              "8788       Pakistan    6/23/2018   TV-Y   1 Season   \n",
              "8789       Pakistan   06/07/2018  TV-Y7   1 Season   \n",
              "\n",
              "                                              listed_in  \n",
              "0                                         Documentaries  \n",
              "1     Crime TV Shows, International TV Shows, TV Act...  \n",
              "2                    TV Dramas, TV Horror, TV Mysteries  \n",
              "3                    Children & Family Movies, Comedies  \n",
              "4      Dramas, Independent Movies, International Movies  \n",
              "...                                                 ...  \n",
              "8785                  International TV Shows, TV Dramas  \n",
              "8786                                           Kids' TV  \n",
              "8787  International TV Shows, Romantic TV Shows, TV ...  \n",
              "8788                                           Kids' TV  \n",
              "8789                                           Kids' TV  \n",
              "\n",
              "[8790 rows x 9 columns]"
            ],
            "text/html": [
              "\n",
              "  <div id=\"df-87e7605e-e6d7-4127-a1b7-fa9490b7fe2e\" class=\"colab-df-container\">\n",
              "    <div>\n",
              "<style scoped>\n",
              "    .dataframe tbody tr th:only-of-type {\n",
              "        vertical-align: middle;\n",
              "    }\n",
              "\n",
              "    .dataframe tbody tr th {\n",
              "        vertical-align: top;\n",
              "    }\n",
              "\n",
              "    .dataframe thead th {\n",
              "        text-align: right;\n",
              "    }\n",
              "</style>\n",
              "<table border=\"1\" class=\"dataframe\">\n",
              "  <thead>\n",
              "    <tr style=\"text-align: right;\">\n",
              "      <th></th>\n",
              "      <th>show_id</th>\n",
              "      <th>type</th>\n",
              "      <th>title</th>\n",
              "      <th>director</th>\n",
              "      <th>country</th>\n",
              "      <th>date_added</th>\n",
              "      <th>rating</th>\n",
              "      <th>duration</th>\n",
              "      <th>listed_in</th>\n",
              "    </tr>\n",
              "  </thead>\n",
              "  <tbody>\n",
              "    <tr>\n",
              "      <th>0</th>\n",
              "      <td>s1</td>\n",
              "      <td>Movie</td>\n",
              "      <td>DICK jOHNSON IS deAD</td>\n",
              "      <td>Kirsten Johnson</td>\n",
              "      <td>United States</td>\n",
              "      <td>9/25/2021</td>\n",
              "      <td>PG-13</td>\n",
              "      <td>90 min</td>\n",
              "      <td>Documentaries</td>\n",
              "    </tr>\n",
              "    <tr>\n",
              "      <th>1</th>\n",
              "      <td>s3</td>\n",
              "      <td>TV Show</td>\n",
              "      <td>GANGLANdS</td>\n",
              "      <td>Julien Leclercq</td>\n",
              "      <td>France</td>\n",
              "      <td>(9/24/2021)</td>\n",
              "      <td>TV-MA</td>\n",
              "      <td>1 Season</td>\n",
              "      <td>Crime TV Shows, International TV Shows, TV Act...</td>\n",
              "    </tr>\n",
              "    <tr>\n",
              "      <th>2</th>\n",
              "      <td>s6</td>\n",
              "      <td>TV Show</td>\n",
              "      <td>MIDNIgHT MASS</td>\n",
              "      <td>Mike Flanagan</td>\n",
              "      <td>United States</td>\n",
              "      <td>(9/24/2021)</td>\n",
              "      <td>TV-MA</td>\n",
              "      <td>1 Season</td>\n",
              "      <td>TV Dramas, TV Horror, TV Mysteries</td>\n",
              "    </tr>\n",
              "    <tr>\n",
              "      <th>3</th>\n",
              "      <td>s14</td>\n",
              "      <td>Movie</td>\n",
              "      <td>COnfESsIoNs OF AN INVISIBLE GIRL</td>\n",
              "      <td>Bruno Garotti</td>\n",
              "      <td>Brazil</td>\n",
              "      <td>9/22/2021</td>\n",
              "      <td>TV-PG</td>\n",
              "      <td>91 min</td>\n",
              "      <td>Children &amp; Family Movies, Comedies</td>\n",
              "    </tr>\n",
              "    <tr>\n",
              "      <th>4</th>\n",
              "      <td>s8</td>\n",
              "      <td>Movie</td>\n",
              "      <td>sANKOFa</td>\n",
              "      <td>Haile Gerima</td>\n",
              "      <td>Us</td>\n",
              "      <td>9/24/2021</td>\n",
              "      <td>TV-MA</td>\n",
              "      <td>125 min</td>\n",
              "      <td>Dramas, Independent Movies, International Movies</td>\n",
              "    </tr>\n",
              "    <tr>\n",
              "      <th>...</th>\n",
              "      <td>...</td>\n",
              "      <td>...</td>\n",
              "      <td>...</td>\n",
              "      <td>...</td>\n",
              "      <td>...</td>\n",
              "      <td>...</td>\n",
              "      <td>...</td>\n",
              "      <td>...</td>\n",
              "      <td>...</td>\n",
              "    </tr>\n",
              "    <tr>\n",
              "      <th>8785</th>\n",
              "      <td>s8797</td>\n",
              "      <td>TV Show</td>\n",
              "      <td>YuNUs eMRE</td>\n",
              "      <td>Not Given</td>\n",
              "      <td>Turkey</td>\n",
              "      <td>1/17/2017</td>\n",
              "      <td>TV-PG</td>\n",
              "      <td>2 Seasons</td>\n",
              "      <td>International TV Shows, TV Dramas</td>\n",
              "    </tr>\n",
              "    <tr>\n",
              "      <th>8786</th>\n",
              "      <td>s8798</td>\n",
              "      <td>TV Show</td>\n",
              "      <td>zAK sTorm</td>\n",
              "      <td>Not Given</td>\n",
              "      <td>United States</td>\n",
              "      <td>9/13/2018</td>\n",
              "      <td>TV-Y7</td>\n",
              "      <td>3 Seasons</td>\n",
              "      <td>Kids' TV</td>\n",
              "    </tr>\n",
              "    <tr>\n",
              "      <th>8787</th>\n",
              "      <td>s8801</td>\n",
              "      <td>TV Show</td>\n",
              "      <td>ziNdAGi gULZAR haI</td>\n",
              "      <td>Not Given</td>\n",
              "      <td>Pakistan</td>\n",
              "      <td>12/15/2016</td>\n",
              "      <td>TV-PG</td>\n",
              "      <td>1 Season</td>\n",
              "      <td>International TV Shows, Romantic TV Shows, TV ...</td>\n",
              "    </tr>\n",
              "    <tr>\n",
              "      <th>8788</th>\n",
              "      <td>s8784</td>\n",
              "      <td>TV Show</td>\n",
              "      <td>yOKO</td>\n",
              "      <td>Not Given</td>\n",
              "      <td>Pakistan</td>\n",
              "      <td>6/23/2018</td>\n",
              "      <td>TV-Y</td>\n",
              "      <td>1 Season</td>\n",
              "      <td>Kids' TV</td>\n",
              "    </tr>\n",
              "    <tr>\n",
              "      <th>8789</th>\n",
              "      <td>s8786</td>\n",
              "      <td>TV Show</td>\n",
              "      <td>YoM</td>\n",
              "      <td>Not Given</td>\n",
              "      <td>Pakistan</td>\n",
              "      <td>06/07/2018</td>\n",
              "      <td>TV-Y7</td>\n",
              "      <td>1 Season</td>\n",
              "      <td>Kids' TV</td>\n",
              "    </tr>\n",
              "  </tbody>\n",
              "</table>\n",
              "<p>8790 rows × 9 columns</p>\n",
              "</div>\n",
              "    <div class=\"colab-df-buttons\">\n",
              "\n",
              "  <div class=\"colab-df-container\">\n",
              "    <button class=\"colab-df-convert\" onclick=\"convertToInteractive('df-87e7605e-e6d7-4127-a1b7-fa9490b7fe2e')\"\n",
              "            title=\"Convert this dataframe to an interactive table.\"\n",
              "            style=\"display:none;\">\n",
              "\n",
              "  <svg xmlns=\"http://www.w3.org/2000/svg\" height=\"24px\" viewBox=\"0 -960 960 960\">\n",
              "    <path d=\"M120-120v-720h720v720H120Zm60-500h600v-160H180v160Zm220 220h160v-160H400v160Zm0 220h160v-160H400v160ZM180-400h160v-160H180v160Zm440 0h160v-160H620v160ZM180-180h160v-160H180v160Zm440 0h160v-160H620v160Z\"/>\n",
              "  </svg>\n",
              "    </button>\n",
              "\n",
              "  <style>\n",
              "    .colab-df-container {\n",
              "      display:flex;\n",
              "      gap: 12px;\n",
              "    }\n",
              "\n",
              "    .colab-df-convert {\n",
              "      background-color: #E8F0FE;\n",
              "      border: none;\n",
              "      border-radius: 50%;\n",
              "      cursor: pointer;\n",
              "      display: none;\n",
              "      fill: #1967D2;\n",
              "      height: 32px;\n",
              "      padding: 0 0 0 0;\n",
              "      width: 32px;\n",
              "    }\n",
              "\n",
              "    .colab-df-convert:hover {\n",
              "      background-color: #E2EBFA;\n",
              "      box-shadow: 0px 1px 2px rgba(60, 64, 67, 0.3), 0px 1px 3px 1px rgba(60, 64, 67, 0.15);\n",
              "      fill: #174EA6;\n",
              "    }\n",
              "\n",
              "    .colab-df-buttons div {\n",
              "      margin-bottom: 4px;\n",
              "    }\n",
              "\n",
              "    [theme=dark] .colab-df-convert {\n",
              "      background-color: #3B4455;\n",
              "      fill: #D2E3FC;\n",
              "    }\n",
              "\n",
              "    [theme=dark] .colab-df-convert:hover {\n",
              "      background-color: #434B5C;\n",
              "      box-shadow: 0px 1px 3px 1px rgba(0, 0, 0, 0.15);\n",
              "      filter: drop-shadow(0px 1px 2px rgba(0, 0, 0, 0.3));\n",
              "      fill: #FFFFFF;\n",
              "    }\n",
              "  </style>\n",
              "\n",
              "    <script>\n",
              "      const buttonEl =\n",
              "        document.querySelector('#df-87e7605e-e6d7-4127-a1b7-fa9490b7fe2e button.colab-df-convert');\n",
              "      buttonEl.style.display =\n",
              "        google.colab.kernel.accessAllowed ? 'block' : 'none';\n",
              "\n",
              "      async function convertToInteractive(key) {\n",
              "        const element = document.querySelector('#df-87e7605e-e6d7-4127-a1b7-fa9490b7fe2e');\n",
              "        const dataTable =\n",
              "          await google.colab.kernel.invokeFunction('convertToInteractive',\n",
              "                                                    [key], {});\n",
              "        if (!dataTable) return;\n",
              "\n",
              "        const docLinkHtml = 'Like what you see? Visit the ' +\n",
              "          '<a target=\"_blank\" href=https://colab.research.google.com/notebooks/data_table.ipynb>data table notebook</a>'\n",
              "          + ' to learn more about interactive tables.';\n",
              "        element.innerHTML = '';\n",
              "        dataTable['output_type'] = 'display_data';\n",
              "        await google.colab.output.renderOutput(dataTable, element);\n",
              "        const docLink = document.createElement('div');\n",
              "        docLink.innerHTML = docLinkHtml;\n",
              "        element.appendChild(docLink);\n",
              "      }\n",
              "    </script>\n",
              "  </div>\n",
              "\n",
              "\n",
              "<div id=\"df-ad05ec58-028c-4d0e-8412-c4b51daf6312\">\n",
              "  <button class=\"colab-df-quickchart\" onclick=\"quickchart('df-ad05ec58-028c-4d0e-8412-c4b51daf6312')\"\n",
              "            title=\"Suggest charts\"\n",
              "            style=\"display:none;\">\n",
              "\n",
              "<svg xmlns=\"http://www.w3.org/2000/svg\" height=\"24px\"viewBox=\"0 0 24 24\"\n",
              "     width=\"24px\">\n",
              "    <g>\n",
              "        <path d=\"M19 3H5c-1.1 0-2 .9-2 2v14c0 1.1.9 2 2 2h14c1.1 0 2-.9 2-2V5c0-1.1-.9-2-2-2zM9 17H7v-7h2v7zm4 0h-2V7h2v10zm4 0h-2v-4h2v4z\"/>\n",
              "    </g>\n",
              "</svg>\n",
              "  </button>\n",
              "\n",
              "<style>\n",
              "  .colab-df-quickchart {\n",
              "      --bg-color: #E8F0FE;\n",
              "      --fill-color: #1967D2;\n",
              "      --hover-bg-color: #E2EBFA;\n",
              "      --hover-fill-color: #174EA6;\n",
              "      --disabled-fill-color: #AAA;\n",
              "      --disabled-bg-color: #DDD;\n",
              "  }\n",
              "\n",
              "  [theme=dark] .colab-df-quickchart {\n",
              "      --bg-color: #3B4455;\n",
              "      --fill-color: #D2E3FC;\n",
              "      --hover-bg-color: #434B5C;\n",
              "      --hover-fill-color: #FFFFFF;\n",
              "      --disabled-bg-color: #3B4455;\n",
              "      --disabled-fill-color: #666;\n",
              "  }\n",
              "\n",
              "  .colab-df-quickchart {\n",
              "    background-color: var(--bg-color);\n",
              "    border: none;\n",
              "    border-radius: 50%;\n",
              "    cursor: pointer;\n",
              "    display: none;\n",
              "    fill: var(--fill-color);\n",
              "    height: 32px;\n",
              "    padding: 0;\n",
              "    width: 32px;\n",
              "  }\n",
              "\n",
              "  .colab-df-quickchart:hover {\n",
              "    background-color: var(--hover-bg-color);\n",
              "    box-shadow: 0 1px 2px rgba(60, 64, 67, 0.3), 0 1px 3px 1px rgba(60, 64, 67, 0.15);\n",
              "    fill: var(--button-hover-fill-color);\n",
              "  }\n",
              "\n",
              "  .colab-df-quickchart-complete:disabled,\n",
              "  .colab-df-quickchart-complete:disabled:hover {\n",
              "    background-color: var(--disabled-bg-color);\n",
              "    fill: var(--disabled-fill-color);\n",
              "    box-shadow: none;\n",
              "  }\n",
              "\n",
              "  .colab-df-spinner {\n",
              "    border: 2px solid var(--fill-color);\n",
              "    border-color: transparent;\n",
              "    border-bottom-color: var(--fill-color);\n",
              "    animation:\n",
              "      spin 1s steps(1) infinite;\n",
              "  }\n",
              "\n",
              "  @keyframes spin {\n",
              "    0% {\n",
              "      border-color: transparent;\n",
              "      border-bottom-color: var(--fill-color);\n",
              "      border-left-color: var(--fill-color);\n",
              "    }\n",
              "    20% {\n",
              "      border-color: transparent;\n",
              "      border-left-color: var(--fill-color);\n",
              "      border-top-color: var(--fill-color);\n",
              "    }\n",
              "    30% {\n",
              "      border-color: transparent;\n",
              "      border-left-color: var(--fill-color);\n",
              "      border-top-color: var(--fill-color);\n",
              "      border-right-color: var(--fill-color);\n",
              "    }\n",
              "    40% {\n",
              "      border-color: transparent;\n",
              "      border-right-color: var(--fill-color);\n",
              "      border-top-color: var(--fill-color);\n",
              "    }\n",
              "    60% {\n",
              "      border-color: transparent;\n",
              "      border-right-color: var(--fill-color);\n",
              "    }\n",
              "    80% {\n",
              "      border-color: transparent;\n",
              "      border-right-color: var(--fill-color);\n",
              "      border-bottom-color: var(--fill-color);\n",
              "    }\n",
              "    90% {\n",
              "      border-color: transparent;\n",
              "      border-bottom-color: var(--fill-color);\n",
              "    }\n",
              "  }\n",
              "</style>\n",
              "\n",
              "  <script>\n",
              "    async function quickchart(key) {\n",
              "      const quickchartButtonEl =\n",
              "        document.querySelector('#' + key + ' button');\n",
              "      quickchartButtonEl.disabled = true;  // To prevent multiple clicks.\n",
              "      quickchartButtonEl.classList.add('colab-df-spinner');\n",
              "      try {\n",
              "        const charts = await google.colab.kernel.invokeFunction(\n",
              "            'suggestCharts', [key], {});\n",
              "      } catch (error) {\n",
              "        console.error('Error during call to suggestCharts:', error);\n",
              "      }\n",
              "      quickchartButtonEl.classList.remove('colab-df-spinner');\n",
              "      quickchartButtonEl.classList.add('colab-df-quickchart-complete');\n",
              "    }\n",
              "    (() => {\n",
              "      let quickchartButtonEl =\n",
              "        document.querySelector('#df-ad05ec58-028c-4d0e-8412-c4b51daf6312 button');\n",
              "      quickchartButtonEl.style.display =\n",
              "        google.colab.kernel.accessAllowed ? 'block' : 'none';\n",
              "    })();\n",
              "  </script>\n",
              "</div>\n",
              "\n",
              "  <div id=\"id_cf099971-7daf-425f-bebe-32a05d6e1f73\">\n",
              "    <style>\n",
              "      .colab-df-generate {\n",
              "        background-color: #E8F0FE;\n",
              "        border: none;\n",
              "        border-radius: 50%;\n",
              "        cursor: pointer;\n",
              "        display: none;\n",
              "        fill: #1967D2;\n",
              "        height: 32px;\n",
              "        padding: 0 0 0 0;\n",
              "        width: 32px;\n",
              "      }\n",
              "\n",
              "      .colab-df-generate:hover {\n",
              "        background-color: #E2EBFA;\n",
              "        box-shadow: 0px 1px 2px rgba(60, 64, 67, 0.3), 0px 1px 3px 1px rgba(60, 64, 67, 0.15);\n",
              "        fill: #174EA6;\n",
              "      }\n",
              "\n",
              "      [theme=dark] .colab-df-generate {\n",
              "        background-color: #3B4455;\n",
              "        fill: #D2E3FC;\n",
              "      }\n",
              "\n",
              "      [theme=dark] .colab-df-generate:hover {\n",
              "        background-color: #434B5C;\n",
              "        box-shadow: 0px 1px 3px 1px rgba(0, 0, 0, 0.15);\n",
              "        filter: drop-shadow(0px 1px 2px rgba(0, 0, 0, 0.3));\n",
              "        fill: #FFFFFF;\n",
              "      }\n",
              "    </style>\n",
              "    <button class=\"colab-df-generate\" onclick=\"generateWithVariable('df')\"\n",
              "            title=\"Generate code using this dataframe.\"\n",
              "            style=\"display:none;\">\n",
              "\n",
              "  <svg xmlns=\"http://www.w3.org/2000/svg\" height=\"24px\"viewBox=\"0 0 24 24\"\n",
              "       width=\"24px\">\n",
              "    <path d=\"M7,19H8.4L18.45,9,17,7.55,7,17.6ZM5,21V16.75L18.45,3.32a2,2,0,0,1,2.83,0l1.4,1.43a1.91,1.91,0,0,1,.58,1.4,1.91,1.91,0,0,1-.58,1.4L9.25,21ZM18.45,9,17,7.55Zm-12,3A5.31,5.31,0,0,0,4.9,8.1,5.31,5.31,0,0,0,1,6.5,5.31,5.31,0,0,0,4.9,4.9,5.31,5.31,0,0,0,6.5,1,5.31,5.31,0,0,0,8.1,4.9,5.31,5.31,0,0,0,12,6.5,5.46,5.46,0,0,0,6.5,12Z\"/>\n",
              "  </svg>\n",
              "    </button>\n",
              "    <script>\n",
              "      (() => {\n",
              "      const buttonEl =\n",
              "        document.querySelector('#id_cf099971-7daf-425f-bebe-32a05d6e1f73 button.colab-df-generate');\n",
              "      buttonEl.style.display =\n",
              "        google.colab.kernel.accessAllowed ? 'block' : 'none';\n",
              "\n",
              "      buttonEl.onclick = () => {\n",
              "        google.colab.notebook.generateWithVariable('df');\n",
              "      }\n",
              "      })();\n",
              "    </script>\n",
              "  </div>\n",
              "\n",
              "    </div>\n",
              "  </div>\n"
            ],
            "application/vnd.google.colaboratory.intrinsic+json": {
              "type": "dataframe",
              "variable_name": "df",
              "summary": "{\n  \"name\": \"df\",\n  \"rows\": 8790,\n  \"fields\": [\n    {\n      \"column\": \"show_id\",\n      \"properties\": {\n        \"dtype\": \"string\",\n        \"num_unique_values\": 8790,\n        \"samples\": [\n          \"s5505\",\n          \"s6264\",\n          \"s1463\"\n        ],\n        \"semantic_type\": \"\",\n        \"description\": \"\"\n      }\n    },\n    {\n      \"column\": \"type\",\n      \"properties\": {\n        \"dtype\": \"category\",\n        \"num_unique_values\": 12,\n        \"samples\": [\n          \"m\",\n          \"tv\",\n          \"Movie\"\n        ],\n        \"semantic_type\": \"\",\n        \"description\": \"\"\n      }\n    },\n    {\n      \"column\": \"title\",\n      \"properties\": {\n        \"dtype\": \"string\",\n        \"num_unique_values\": 8787,\n        \"samples\": [\n          \"YoUR eXCELlENCY\",\n          \"PARAdISe LoSt\",\n          \"HoP\"\n        ],\n        \"semantic_type\": \"\",\n        \"description\": \"\"\n      }\n    },\n    {\n      \"column\": \"director\",\n      \"properties\": {\n        \"dtype\": \"string\",\n        \"num_unique_values\": 4528,\n        \"samples\": [\n          \"Ian Samuels\",\n          \"R\\u00e9my Four, Julien War\",\n          \"V Vignarajan\"\n        ],\n        \"semantic_type\": \"\",\n        \"description\": \"\"\n      }\n    },\n    {\n      \"column\": \"country\",\n      \"properties\": {\n        \"dtype\": \"category\",\n        \"num_unique_values\": 114,\n        \"samples\": [\n          \"Finland\",\n          \"UK\",\n          \"australia\"\n        ],\n        \"semantic_type\": \"\",\n        \"description\": \"\"\n      }\n    },\n    {\n      \"column\": \"date_added\",\n      \"properties\": {\n        \"dtype\": \"category\",\n        \"num_unique_values\": 1714,\n        \"samples\": [\n          \"7/19/2020\",\n          \"10/01/2011\",\n          \"08/06/2020\"\n        ],\n        \"semantic_type\": \"\",\n        \"description\": \"\"\n      }\n    },\n    {\n      \"column\": \"rating\",\n      \"properties\": {\n        \"dtype\": \"category\",\n        \"num_unique_values\": 23,\n        \"samples\": [\n          \"pg\",\n          \"G\",\n          \"PG-13\"\n        ],\n        \"semantic_type\": \"\",\n        \"description\": \"\"\n      }\n    },\n    {\n      \"column\": \"duration\",\n      \"properties\": {\n        \"dtype\": \"category\",\n        \"num_unique_values\": 250,\n        \"samples\": [\n          \"185 min\",\n          \"87 min\",\n          \"59 min\"\n        ],\n        \"semantic_type\": \"\",\n        \"description\": \"\"\n      }\n    },\n    {\n      \"column\": \"listed_in\",\n      \"properties\": {\n        \"dtype\": \"category\",\n        \"num_unique_values\": 515,\n        \"samples\": [\n          \"Romantic TV Shows, TV Comedies\",\n          \"Stand-Up Comedy & Talk Shows, TV Mysteries, TV Sci-Fi & Fantasy\",\n          \"British TV Shows, Kids' TV, TV Comedies\"\n        ],\n        \"semantic_type\": \"\",\n        \"description\": \"\"\n      }\n    }\n  ]\n}"
            }
          },
          "metadata": {},
          "execution_count": 49
        }
      ]
    },
    {
      "cell_type": "code",
      "source": [
        "df['date_added'] = df['date_added'].str.replace('(', '').str.replace(')','')"
      ],
      "metadata": {
        "id": "A_sUflT4LUEC"
      },
      "execution_count": null,
      "outputs": []
    },
    {
      "cell_type": "code",
      "source": [
        "df['date_added'] = pd.to_datetime(df['date_added'], format='%m-%d-%Y')"
      ],
      "metadata": {
        "id": "sht_IIcFHziw"
      },
      "execution_count": null,
      "outputs": []
    },
    {
      "cell_type": "code",
      "source": [
        "df.dtypes"
      ],
      "metadata": {
        "colab": {
          "base_uri": "https://localhost:8080/"
        },
        "id": "_DEBKKgxSy2E",
        "outputId": "8e1d2126-620a-4160-907c-dc7efe02c749"
      },
      "execution_count": null,
      "outputs": [
        {
          "output_type": "execute_result",
          "data": {
            "text/plain": [
              "show_id               object\n",
              "type                  object\n",
              "title                 object\n",
              "director              object\n",
              "country               object\n",
              "date_added    datetime64[ns]\n",
              "rating                object\n",
              "duration              object\n",
              "listed_in             object\n",
              "dtype: object"
            ]
          },
          "metadata": {},
          "execution_count": 54
        }
      ]
    },
    {
      "cell_type": "code",
      "source": [
        "df['year'] = df['date_added'].dt.year"
      ],
      "metadata": {
        "id": "jHpbXmtpRF27"
      },
      "execution_count": null,
      "outputs": []
    },
    {
      "cell_type": "code",
      "source": [
        "df['year_month'] = df['date_added'].dt.strftime('%Y-%m')"
      ],
      "metadata": {
        "id": "do4YJXt8TuG9"
      },
      "execution_count": null,
      "outputs": []
    },
    {
      "cell_type": "code",
      "source": [
        "df['no_of_days'] = (pd.Timestamp('today') - df['date_added']).dt.days"
      ],
      "metadata": {
        "id": "HMXma52gUHNJ"
      },
      "execution_count": null,
      "outputs": []
    },
    {
      "cell_type": "code",
      "source": [
        "df['title'] = df['title'].str.title()"
      ],
      "metadata": {
        "id": "kPerPBGnV2PJ"
      },
      "execution_count": null,
      "outputs": []
    },
    {
      "cell_type": "code",
      "source": [
        "country_mapping = {\n",
        "    'US': 'United States',\n",
        "    'Us': 'United States',\n",
        "    'us': 'United States',\n",
        "    'UK': 'United Kingdom',\n",
        "    'PK': 'Pakistan',\n",
        "    'JP': 'Japan',\n",
        "    'UAE': 'United Arab Emirates'\n",
        "}\n",
        "df['country'] = df['country'].replace(country_mapping)"
      ],
      "metadata": {
        "id": "wkTb4281XZbk"
      },
      "execution_count": null,
      "outputs": []
    },
    {
      "cell_type": "markdown",
      "source": [
        "## **Visualize data**"
      ],
      "metadata": {
        "id": "GN9rPOpli-Fm"
      }
    },
    {
      "cell_type": "code",
      "source": [
        "# Calculate value counts of countries\n",
        "country_counts = df['country'].value_counts()\n",
        "\n",
        "# Find top 5 and least 5 countries\n",
        "top5_countries = country_counts.head(5)\n",
        "least5_countries = country_counts.tail(5)\n",
        "\n",
        "# Plot the top 5 countries using Seaborn\n",
        "plt.figure(figsize=(8, 6))\n",
        "sns.barplot(x=top5_countries.index, y=top5_countries.values)\n",
        "plt.xlabel('Country')\n",
        "plt.ylabel('Count')\n",
        "plt.title('Top 5 Countries Making Movies')\n",
        "plt.show()"
      ],
      "metadata": {
        "colab": {
          "base_uri": "https://localhost:8080/",
          "height": 564
        },
        "id": "Z6WQah27jMz-",
        "outputId": "ff450bb0-3834-4f32-c0ea-260882a38c21"
      },
      "execution_count": null,
      "outputs": [
        {
          "output_type": "display_data",
          "data": {
            "text/plain": [
              "<Figure size 800x600 with 1 Axes>"
            ],
            "image/png": "[encoded data removed]"
          },
          "metadata": {}
        }
      ]
    },
    {
      "cell_type": "code",
      "source": [
        "# Plot the top 5 countries using Seaborn\n",
        "plt.figure(figsize=(8, 6))\n",
        "sns.barplot(x=least5_countries.index, y=least5_countries.values)\n",
        "plt.xlabel('Country')\n",
        "plt.ylabel('Count')\n",
        "plt.title('Least 5 Countries Making Movies')\n",
        "plt.show()"
      ],
      "metadata": {
        "colab": {
          "base_uri": "https://localhost:8080/",
          "height": 564
        },
        "id": "5SpJQuoClvt_",
        "outputId": "ce2b2675-5c9d-44ab-f44d-cd708558fcc2"
      },
      "execution_count": null,
      "outputs": [
        {
          "output_type": "display_data",
          "data": {
            "text/plain": [
              "<Figure size 800x600 with 1 Axes>"
            ],
            "image/png": "[encoded data removed]"
          },
          "metadata": {}
        }
      ]
    },
    {
      "cell_type": "code",
      "source": [
        "# Calculate value counts of directors\n",
        "director_counts = df['director'].value_counts()\n",
        "\n",
        "top5_directors = director_counts.head(5)\n",
        "\n",
        "# Plot the top 5 countries using Seaborn\n",
        "plt.figure(figsize=(10, 6))\n",
        "sns.barplot(x=top5_directors.index, y=top5_directors.values)\n",
        "plt.xlabel('Directors')\n",
        "plt.ylabel('Count')\n",
        "plt.title('Top 5 Directors Making Movies')\n",
        "plt.show()"
      ],
      "metadata": {
        "colab": {
          "base_uri": "https://localhost:8080/",
          "height": 565
        },
        "id": "Qsm4OqFTnTI-",
        "outputId": "2aa8f1bd-a0ba-4e80-dea9-92902de99a88"
      },
      "execution_count": null,
      "outputs": [
        {
          "output_type": "display_data",
          "data": {
            "text/plain": [
              "<Figure size 1000x600 with 1 Axes>"
            ],
            "image/png": "[encoded data removed]"
          },
          "metadata": {}
        }
      ]
    },
    {
      "cell_type": "code",
      "source": [
        "# Counting the number of unique directors per country\n",
        "directors_per_country = df.groupby('country')['director'].nunique().nlargest(5)\n",
        "\n",
        "# Creating a DataFrame with the top 5 countries and their respective director counts\n",
        "top_countries_directors_df = pd.DataFrame({'Country': directors_per_country.index,\n",
        "                                           'Director Count': directors_per_country.values})\n",
        "\n",
        "# Plotting the top 5 countries with the most directors\n",
        "plt.figure(figsize=(15, 6))\n",
        "sns.scatterplot(x='Country', y='Director Count', data=top_countries_directors_df)\n",
        "plt.xlabel('Country')\n",
        "plt.ylabel('Director Count')\n",
        "plt.title('Top 10 Countries with the Most Directors')\n",
        "plt.show()"
      ],
      "metadata": {
        "colab": {
          "base_uri": "https://localhost:8080/",
          "height": 564
        },
        "id": "W24HZr6dpPsS",
        "outputId": "8b37b3b9-d60f-4267-b001-6913f461aea7"
      },
      "execution_count": null,
      "outputs": [
        {
          "output_type": "display_data",
          "data": {
            "text/plain": [
              "<Figure size 1500x600 with 1 Axes>"
            ],
            "image/png": "[encoded data removed]"
          },
          "metadata": {}
        }
      ]
    },
    {
      "cell_type": "code",
      "source": [
        "type_distribution = df['type'].value_counts()\n",
        "type_dist = pd.DataFrame({'type': type_distribution.index,\n",
        "                          'type_count': type_distribution.values})\n",
        "plt.figure(figsize=(8, 6))\n",
        "sns.histplot(data=type_dist, x='type', weights='type_count', discrete=True)\n",
        "plt.xlabel('Type')\n",
        "plt.ylabel('Frequency')\n",
        "plt.title('Distribution of Type')\n",
        "plt.xticks(rotation=45)\n",
        "plt.show()"
      ],
      "metadata": {
        "colab": {
          "base_uri": "https://localhost:8080/",
          "height": 602
        },
        "id": "bHwcxaqAuB6N",
        "outputId": "28b9522a-1a49-425a-f9a9-7b4905fb0b34"
      },
      "execution_count": null,
      "outputs": [
        {
          "output_type": "display_data",
          "data": {
            "text/plain": [
              "<Figure size 800x600 with 1 Axes>"
            ],
            "image/png": "[encoded data removed]"
          },
          "metadata": {}
        }
      ]
    },
    {
      "cell_type": "code",
      "source": [
        "# Group the data by year and program type and count the occurrences\n",
        "program_counts = df.groupby(['year', 'type']).size().unstack().fillna(0)\n",
        "\n",
        "# Create a stacked bar plot to visualize program types over the years\n",
        "plt.figure(figsize=(10, 6))\n",
        "program_counts.plot(kind='bar', stacked=True)\n",
        "plt.xlabel('Year')\n",
        "plt.ylabel('Count')\n",
        "plt.title('Distribution of TV Program Types over the Years')\n",
        "plt.legend(title='Type')\n",
        "plt.xticks(rotation=45)\n",
        "plt.show()"
      ],
      "metadata": {
        "colab": {
          "base_uri": "https://localhost:8080/",
          "height": 511
        },
        "id": "72xfL-nP1gHC",
        "outputId": "219340e5-006e-410c-fa97-c3801caa7f55"
      },
      "execution_count": null,
      "outputs": [
        {
          "output_type": "display_data",
          "data": {
            "text/plain": [
              "<Figure size 1000x600 with 0 Axes>"
            ]
          },
          "metadata": {}
        },
        {
          "output_type": "display_data",
          "data": {
            "text/plain": [
              "<Figure size 640x480 with 1 Axes>"
            ],
            "image/png": "[encoded data removed]"
          },
          "metadata": {}
        }
      ]
    },
    {
      "cell_type": "code",
      "source": [
        "sorted_df = df.sort_values(by='no_of_days', ascending=True)\n",
        "plt.figure(figsize=(8, 6))\n",
        "sns.scatterplot(x='type', y='no_of_days', data=sorted_df)\n",
        "plt.xlabel('Type')\n",
        "plt.ylabel('Number of days')\n",
        "plt.title('5 Latest Types Based on Days Since Release')\n",
        "plt.xticks(rotation=45)\n",
        "plt.show()"
      ],
      "metadata": {
        "colab": {
          "base_uri": "https://localhost:8080/",
          "height": 602
        },
        "id": "aBLWh3l_1ue5",
        "outputId": "80a481ec-e7af-4503-8574-ac03fe3e7b21"
      },
      "execution_count": null,
      "outputs": [
        {
          "output_type": "display_data",
          "data": {
            "text/plain": [
              "<Figure size 800x600 with 1 Axes>"
            ],
            "image/png": "[encoded data removed]"
          },
          "metadata": {}
        }
      ]
    },
    {
      "cell_type": "markdown",
      "source": [
        "# Questions to answer"
      ],
      "metadata": {
        "id": "qZ9HWZC0WrtJ"
      }
    },
    {
      "cell_type": "markdown",
      "source": [
        "### **Which countries are the top 5 on making differnt types of TV programs?**\n",
        "\n",
        "As per our data visualization we can see that\n",
        "USA, India, UK, Pakistan and Not given are the top 5 countries making different TV program"
      ],
      "metadata": {
        "id": "yPueWDkkBgkB"
      }
    },
    {
      "cell_type": "markdown",
      "source": [
        "### **Which countries are the least 5 on making differnt types of TV programs?**\n",
        "\n",
        "As per our data visualization we can see that\n",
        "Namibia, West Germany, Greece, Soviet Union and Iran are the least 5 countries making different TV program"
      ],
      "metadata": {
        "id": "zYGUWhMtDT2m"
      }
    },
    {
      "cell_type": "markdown",
      "source": [
        "### **Who are the top 5 directors ?**\n",
        "\n",
        "Not given, Rajiv Chilaka, Alasthiar Fothergill, Raul Campos, Jan Suter and Suhas Khadav are the top 5 directors with serval TV programs\n"
      ],
      "metadata": {
        "id": "KpTMjfRYDXIC"
      }
    },
    {
      "cell_type": "markdown",
      "source": [
        "### **Which countries are the top 5 with many directors?**\n",
        "US, India, UK, Not Given and Canada are the countries with several directors."
      ],
      "metadata": {
        "id": "IWghlCevE-ul"
      }
    },
    {
      "cell_type": "markdown",
      "source": [
        "### **What does the distribution of type look like?**\n",
        "As per the histogram, more than 6000 TV program lies on Movie. TV Show is the second most high TV program."
      ],
      "metadata": {
        "id": "gC1VE1etUTtL"
      }
    },
    {
      "cell_type": "markdown",
      "source": [
        "### **What does the distribution of type of TV program over the years?**\n",
        "From the graph, we can see that from 2016 upto 2019 the distribution indicates that Movie has got a lot of coverage but started to decrease in 2021 and 2022."
      ],
      "metadata": {
        "id": "DDHyanuYVC8w"
      }
    },
    {
      "cell_type": "markdown",
      "source": [
        "## **Bonus**"
      ],
      "metadata": {
        "id": "XaOIEOjhWc_e"
      }
    },
    {
      "cell_type": "markdown",
      "source": [
        "Write a function that creates random ratings for each movie in 2s.f"
      ],
      "metadata": {
        "id": "TRHn7tLMbGB_"
      }
    },
    {
      "cell_type": "code",
      "source": [
        "def generate_random_ratings(n):\n",
        "    return [round(random.uniform(0, 5), 2) for _ in range(n)]\n",
        "\n",
        "\n",
        "# Generate random ratings and store them in a new column 'Rating'\n",
        "df['rating'] = generate_random_ratings(len(df))\n"
      ],
      "metadata": {
        "id": "13uCvxKOWhsa"
      },
      "execution_count": null,
      "outputs": []
    },
    {
      "cell_type": "markdown",
      "source": [
        "Split the listed_in column into different columns and analyze the most popular genre. Another method that can be used is to join all the text into a list and use the counter class from collections module to get the most common genre"
      ],
      "metadata": {
        "id": "w3ISZlyEcmXq"
      }
    },
    {
      "cell_type": "code",
      "source": [
        "from collections import Counter\n",
        "\n",
        "genres = set()\n",
        "for row in df['listed_in']:\n",
        "    genre_list = row.split(', ')\n",
        "    genres.update(genre_list)\n",
        "\n",
        "for genre in genres:\n",
        "    df[genre] = df['listed_in'].apply(lambda x: genre in x).astype(int)\n",
        "\n",
        "genre_columns = list(genres)\n",
        "genre_counts = df[genre_columns].sum().to_dict()\n",
        "most_popular_genre = max(genre_counts, key=genre_counts.get)\n"
      ],
      "metadata": {
        "id": "G_a_KdSnbMhv"
      },
      "execution_count": null,
      "outputs": []
    },
    {
      "cell_type": "code",
      "source": [],
      "metadata": {
        "id": "QxlZ_Z9qcr11"
      },
      "execution_count": null,
      "outputs": []
    }
  ]
}